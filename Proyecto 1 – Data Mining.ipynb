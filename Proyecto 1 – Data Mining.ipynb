{
 "cells": [
  {
   "metadata": {
    "ExecuteTime": {
     "end_time": "2024-10-23T02:26:15.794677Z",
     "start_time": "2024-10-23T02:26:13.768954Z"
    }
   },
   "cell_type": "code",
   "source": [
    "import requests\n",
    "from bs4 import BeautifulSoup\n",
    "import json\n",
    "\n",
    "# Función para realizar scraping de propiedades\n",
    "def scrape_properties(city_url, city_name):\n",
    "    headers = {\n",
    "        'User-Agent': 'Mozilla/5.0 (Windows NT 10.0; Win64; x64) AppleWebKit/537.36 (KHTML, like Gecko) Chrome/92.0.4515.107 Safari/537.36'\n",
    "    }\n",
    "    response = requests.get(city_url, headers=headers)\n",
    "    soup = BeautifulSoup(response.text, 'html.parser')\n",
    "\n",
    "    properties = []\n",
    "\n",
    "    # Encuentra las tarjetas de propiedad, ajusta los selectores según la estructura del HTML\n",
    "    for property_card in soup.find_all('div', class_='card-info'):  # Ajusta según la página\n",
    "        try:\n",
    "            price = property_card.find('span', class_='item-price').text.strip().replace('$', '').replace('.', '').strip()\n",
    "            size = property_card.find('span', class_='item-surface').text.strip() if property_card.find('span', class_='item-surface') else 'N/A'\n",
    "            bedrooms = property_card.find('span', class_='item-rooms').text.strip() if property_card.find('span', class_='item-rooms') else 'N/A'\n",
    "            link = property_card.find('a', href=True)['href']\n",
    "\n",
    "            properties.append({\n",
    "                'precio': int(price),\n",
    "                'tamano': size,\n",
    "                'habitaciones': bedrooms,\n",
    "                'link': link\n",
    "            })\n",
    "        except AttributeError:\n",
    "            continue  # Ignora si falta información\n",
    "\n",
    "    return {\n",
    "        \"nombre\": city_name,\n",
    "        \"propiedades\": properties\n",
    "    }\n",
    "\n",
    "# URLs de las ciudades a scrapear\n",
    "urls = {\n",
    "    'Montevideo': 'https://www.zonaprop.com.uy/inmuebles-venta-montevideo.html',\n",
    "    'Punta del Este': 'https://www.zonaprop.com.uy/inmuebles-venta-punta-del-este.html',\n",
    "    'Salto': 'https://www.zonaprop.com.uy/inmuebles-venta-salto.html'\n",
    "}\n",
    "\n",
    "# Inicializar la lista de todas las ciudades y sus propiedades\n",
    "ciudades = []\n",
    "\n",
    "# Recolectar datos de cada ciudad\n",
    "for city, url in urls.items():\n",
    "    city_data = scrape_properties(url, city)\n",
    "    ciudades.append(city_data)\n",
    "\n",
    "# Guardar los datos en un archivo JSON\n",
    "with open('propiedades.json', 'w') as json_file:\n",
    "    json.dump({\"ciudades\": ciudades}, json_file, indent=4)\n",
    "\n",
    "print(\"Scraping completado. Datos guardados en 'propiedades.json'.\")\n"
   ],
   "id": "fa120f3f7864e7e1",
   "outputs": [
    {
     "name": "stdout",
     "output_type": "stream",
     "text": [
      "Scraping completado. Datos guardados en 'propiedades.json'.\n"
     ]
    }
   ],
   "execution_count": 5
  }
 ],
 "metadata": {
  "kernelspec": {
   "display_name": "Python 3",
   "language": "python",
   "name": "python3"
  },
  "language_info": {
   "codemirror_mode": {
    "name": "ipython",
    "version": 2
   },
   "file_extension": ".py",
   "mimetype": "text/x-python",
   "name": "python",
   "nbconvert_exporter": "python",
   "pygments_lexer": "ipython2",
   "version": "2.7.6"
  }
 },
 "nbformat": 4,
 "nbformat_minor": 5
}
